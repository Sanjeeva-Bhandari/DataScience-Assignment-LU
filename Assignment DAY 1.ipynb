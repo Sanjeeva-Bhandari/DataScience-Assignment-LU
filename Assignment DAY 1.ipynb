{
 "cells": [
  {
   "cell_type": "markdown",
   "metadata": {},
   "source": [
    "# Day 1 Assignment\n",
    "## 1st question"
   ]
  },
  {
   "cell_type": "code",
   "execution_count": 7,
   "metadata": {},
   "outputs": [
    {
     "name": "stdout",
     "output_type": "stream",
     "text": [
      "Given the following jumbled word, OBANWRI guess the correct English word.\n",
      "A.RANIBOW\n",
      "B.RAINBOW\n",
      "C.BOWRANI\n",
      "D.ROBWANI\n",
      "Choose an option : b\n",
      "Hurray! This is correct answer.\n"
     ]
    }
   ],
   "source": [
    "print(\"Given the following jumbled word, OBANWRI guess the correct English word.\")\n",
    "print(\"A.RANIBOW\\nB.RAINBOW\\nC.BOWRANI\\nD.ROBWANI\")\n",
    "a = input(\"Choose an option : \")\n",
    "if a=='B'or'b':\n",
    "    print(\"Hurray! This is correct answer.\")\n",
    "else:\n",
    "    print(\"Wrong Answer Better luck next time\")"
   ]
  },
  {
   "cell_type": "markdown",
   "metadata": {},
   "source": [
    "#  2nd question"
   ]
  },
  {
   "cell_type": "code",
   "execution_count": 10,
   "metadata": {},
   "outputs": [
    {
     "name": "stdout",
     "output_type": "stream",
     "text": [
      "LETS UPGRADE\n"
     ]
    }
   ],
   "source": [
    "s = \"lets upgrade\"\n",
    "s = s.upper()\n",
    "print(s)"
   ]
  },
  {
   "cell_type": "markdown",
   "metadata": {},
   "source": [
    "# 3rd question"
   ]
  },
  {
   "cell_type": "code",
   "execution_count": 15,
   "metadata": {},
   "outputs": [
    {
     "name": "stdout",
     "output_type": "stream",
     "text": [
      "Enter the cost price of the product : 50\n",
      "Enter the selling price of the product :50\n",
      "Neither\n"
     ]
    }
   ],
   "source": [
    "cp = int(input(\"Enter the cost price of the product : \"))\n",
    "sp = int(input(\"Enter the selling price of the product :\"))\n",
    "\n",
    "if cp<sp:\n",
    "    print(\"Profit = \",(sp-cp))\n",
    "elif cp==sp:\n",
    "    print(\"Neither\")\n",
    "else:\n",
    "    print(\"Loss =\",(cp-sp))\n",
    "    \n"
   ]
  },
  {
   "cell_type": "markdown",
   "metadata": {},
   "source": [
    "# 4th question"
   ]
  },
  {
   "cell_type": "code",
   "execution_count": 17,
   "metadata": {},
   "outputs": [
    {
     "name": "stdout",
     "output_type": "stream",
     "text": [
      "1\n",
      "80\n"
     ]
    }
   ],
   "source": [
    "e = int(input())\n",
    "i = e*80\n",
    "print (i)"
   ]
  },
  {
   "cell_type": "code",
   "execution_count": null,
   "metadata": {},
   "outputs": [],
   "source": []
  }
 ],
 "metadata": {
  "kernelspec": {
   "display_name": "Python 3",
   "language": "python",
   "name": "python3"
  },
  "language_info": {
   "codemirror_mode": {
    "name": "ipython",
    "version": 3
   },
   "file_extension": ".py",
   "mimetype": "text/x-python",
   "name": "python",
   "nbconvert_exporter": "python",
   "pygments_lexer": "ipython3",
   "version": "3.7.6"
  }
 },
 "nbformat": 4,
 "nbformat_minor": 4
}
