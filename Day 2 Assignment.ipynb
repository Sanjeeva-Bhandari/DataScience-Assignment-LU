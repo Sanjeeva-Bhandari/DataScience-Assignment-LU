{
 "cells": [
  {
   "cell_type": "markdown",
   "metadata": {},
   "source": [
    "# Question 1"
   ]
  },
  {
   "cell_type": "code",
   "execution_count": 6,
   "metadata": {},
   "outputs": [
    {
     "name": "stdout",
     "output_type": "stream",
     "text": [
      "Enter numbers : 1\n",
      "Enter numbers : 2\n",
      "Enter numbers : 3\n",
      "Enter numbers : 4\n",
      "Enter numbers : 5\n",
      "Enter numbers : 6\n",
      "Enter numbers : 7\n",
      "Enter numbers : 8\n",
      "Enter numbers : 9\n",
      "Enter numbers : 0\n",
      "[2, 4, 6, 8, 0]\n"
     ]
    }
   ],
   "source": [
    "list=[]\n",
    "for i in range(10):\n",
    "    a = int(input('Enter numbers : '))\n",
    "    if (a%2==0):\n",
    "        list.append(a)\n",
    "    \n",
    "print(list)\n",
    "\n",
    "    \n"
   ]
  },
  {
   "cell_type": "markdown",
   "metadata": {},
   "source": [
    "# Question 2 "
   ]
  },
  {
   "cell_type": "code",
   "execution_count": 11,
   "metadata": {},
   "outputs": [
    {
     "name": "stdout",
     "output_type": "stream",
     "text": [
      "['L', 'e', 't', 's', 'U', 'p', 'g', 'r', 'a', 'd', 'e']\n"
     ]
    }
   ],
   "source": [
    "letters = [letter for letter in 'LetsUpgrade']\n",
    "print(letters)"
   ]
  },
  {
   "cell_type": "code",
   "execution_count": 12,
   "metadata": {},
   "outputs": [
    {
     "name": "stdout",
     "output_type": "stream",
     "text": [
      "[1, 2, 3, 4, 5]\n"
     ]
    }
   ],
   "source": [
    "h_numbers = [number for number in [1,2,3,4,5]]\n",
    "print(h_numbers)"
   ]
  },
  {
   "cell_type": "markdown",
   "metadata": {},
   "source": [
    "#  Question 3"
   ]
  },
  {
   "cell_type": "code",
   "execution_count": 13,
   "metadata": {},
   "outputs": [
    {
     "name": "stdout",
     "output_type": "stream",
     "text": [
      "Enter the number till you want the sqaure : 8\n",
      "{1: 1, 2: 4, 3: 9, 4: 16, 5: 25, 6: 36, 7: 49, 8: 64}\n"
     ]
    }
   ],
   "source": [
    "n = int(input(\"Enter the number till you want the sqaure : \"))\n",
    "d=dict()\n",
    "for x in range(1,n+1):\n",
    "    d[x]=x**2\n",
    "print(d)  "
   ]
  },
  {
   "cell_type": "markdown",
   "metadata": {},
   "source": [
    "# Question 4 "
   ]
  },
  {
   "cell_type": "code",
   "execution_count": 34,
   "metadata": {},
   "outputs": [
    {
     "name": "stdout",
     "output_type": "stream",
     "text": [
      "Enter the start point : 4\n",
      "UP 5\n",
      "DOWN 3\n",
      "LEFT 3\n",
      "RIGHT 2\n",
      "2\n"
     ]
    }
   ],
   "source": [
    "import math\n",
    "st_pt = int(input(\"Enter the start point : \"))\n",
    "up = int(input(\"UP \"))\n",
    "down = int(input(\"DOWN \"))\n",
    "left = int(input(\"LEFT \"))\n",
    "right = int(input(\"RIGHT \"))\n",
    "\n",
    "if (up>=down):\n",
    "    ud = up - down\n",
    "    \n",
    "else:\n",
    "    ud = down - up\n",
    "    \n",
    "\n",
    "\n",
    "\n",
    "if(right>=left):\n",
    "    rl = right - left\n",
    "    \n",
    "else:\n",
    "    rl = left - right\n",
    "    \n",
    "\n",
    "dist = (ud*ud) + (rl*rl)\n",
    "dist = math.trunc(math.sqrt(dist))\n",
    "print(dist)\n",
    "\n"
   ]
  },
  {
   "cell_type": "code",
   "execution_count": null,
   "metadata": {},
   "outputs": [],
   "source": []
  }
 ],
 "metadata": {
  "kernelspec": {
   "display_name": "Python 3",
   "language": "python",
   "name": "python3"
  },
  "language_info": {
   "codemirror_mode": {
    "name": "ipython",
    "version": 3
   },
   "file_extension": ".py",
   "mimetype": "text/x-python",
   "name": "python",
   "nbconvert_exporter": "python",
   "pygments_lexer": "ipython3",
   "version": "3.7.6"
  }
 },
 "nbformat": 4,
 "nbformat_minor": 4
}
